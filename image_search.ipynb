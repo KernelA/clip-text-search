{
 "cells": [
  {
   "cell_type": "code",
   "execution_count": 10,
   "metadata": {},
   "outputs": [],
   "source": [
    "import os\n",
    "import pathlib\n",
    "import zipfile\n",
    "from urllib.request import urlretrieve\n",
    "\n",
    "import gdown\n",
    "import torch\n",
    "from ipywidgets import widgets, interact_manual, fixed\n",
    "import numpy as np\n",
    "import matplotlib.gridspec as gridspec\n",
    "import faiss\n",
    "from matplotlib import pyplot as plt"
   ]
  },
  {
   "cell_type": "code",
   "execution_count": 11,
   "metadata": {},
   "outputs": [
    {
     "name": "stdout",
     "output_type": "stream",
     "text": [
      "The autoreload extension is already loaded. To reload it, use:\n",
      "  %reload_ext autoreload\n"
     ]
    }
   ],
   "source": [
    "%load_ext autoreload\n",
    "%autoreload 2\n",
    "\n",
    "from utils import build_index, get_model, get_text_emb, load_image"
   ]
  },
  {
   "cell_type": "code",
   "execution_count": 12,
   "metadata": {},
   "outputs": [],
   "source": [
    "image_dir_name = \"Flicker8k_Dataset\""
   ]
  },
  {
   "cell_type": "code",
   "execution_count": 13,
   "metadata": {},
   "outputs": [],
   "source": [
    "url = \"https://github.com/jbrownlee/Datasets/releases/download/Flickr8k/Flickr8k_Dataset.zip\"\n",
    "out_file = \"Flickr8k_Dataset.zip\"\n",
    "\n",
    "if not os.path.isdir(image_dir_name):\n",
    "    urlretrieve(url, out_file)"
   ]
  },
  {
   "cell_type": "code",
   "execution_count": 14,
   "metadata": {},
   "outputs": [],
   "source": [
    "if not os.path.isdir(image_dir_name):\n",
    "    with zipfile.ZipFile(out_file, \"r\") as zip_archive:\n",
    "        members = filter(lambda x: x.filename.startswith(image_dir_name), zip_archive.infolist())\n",
    "        zip_archive.extractall(members=members)\n",
    "    os.remove(out_file)"
   ]
  },
  {
   "cell_type": "code",
   "execution_count": 15,
   "metadata": {},
   "outputs": [],
   "source": [
    "root_image_dir = pathlib.Path(image_dir_name)"
   ]
  },
  {
   "cell_type": "code",
   "execution_count": 16,
   "metadata": {},
   "outputs": [],
   "source": [
    "images = list(map(str, root_image_dir.rglob(\"*.jpg\")))\n",
    "images.sort()"
   ]
  },
  {
   "cell_type": "code",
   "execution_count": 17,
   "metadata": {},
   "outputs": [],
   "source": [
    "device = torch.device(\"cuda\" if torch.cuda.is_available() else \"cpu\")"
   ]
  },
  {
   "cell_type": "code",
   "execution_count": 18,
   "metadata": {},
   "outputs": [],
   "source": [
    "model, img_transformation = get_model(\"ViT-B/32\", device)"
   ]
  },
  {
   "cell_type": "code",
   "execution_count": 19,
   "metadata": {},
   "outputs": [],
   "source": [
    "file_id = \"10ZyrIGDrE8nIMSO4jpvultO4TuniJU-y\""
   ]
  },
  {
   "cell_type": "code",
   "execution_count": 20,
   "metadata": {},
   "outputs": [],
   "source": [
    "index_name = gdown.download(id=file_id, quiet=True)"
   ]
  },
  {
   "cell_type": "code",
   "execution_count": 21,
   "metadata": {},
   "outputs": [],
   "source": [
    "if not os.path.isfile(index_name):\n",
    "    index = build_index(model, img_transformation, device, images)\n",
    "else:\n",
    "    index = faiss.read_index(index_name)"
   ]
  },
  {
   "cell_type": "code",
   "execution_count": 22,
   "metadata": {},
   "outputs": [],
   "source": [
    "text_input = widgets.Textarea(description=\"Describe image:\", placeholder=\"Cool image\", value=\"A black dog\")\n",
    "top_n_input = widgets.IntSlider(min=1, max=10, value=5, description=\"Number of images to find:\")"
   ]
  },
  {
   "cell_type": "code",
   "execution_count": 23,
   "metadata": {},
   "outputs": [],
   "source": [
    "def show_most_sim_image(text, model, index, device, image_paths, top_n: int):\n",
    "    text_emb = get_text_emb(model, text, device).astype(np.float32)\n",
    "    cos_sim, indices = index.search(text_emb, top_n)\n",
    "\n",
    "    # 1 - 0.5 * (1 - cos_sim)\n",
    "    distance = 0.5 * (1 + cos_sim[0])\n",
    "    indices = indices[0]\n",
    "\n",
    "    images = [load_image(image_paths[index]) for index in indices]\n",
    "\n",
    "    total_samples = len(images)\n",
    "\n",
    "    fig = plt.figure(figsize=(20, 60))\n",
    "    gs = gridspec.GridSpec(total_samples, 2)\n",
    "    axes = fig.add_subplot(gs[0, 1])\n",
    "\n",
    "    y_ticks = tuple(range(total_samples))\n",
    "    axes.barh(y_ticks, distance[::-1], height=0.3)\n",
    "    axes.set_yticks(y_ticks)\n",
    "    labels = [f\"Image {i + 1}\" for i in y_ticks[::-1]]\n",
    "    axes.set_yticklabels(labels)\n",
    "    axes.grid(True, axis=\"x\")\n",
    "    axes.set_title(\"Relevance estimation\")\n",
    "\n",
    "    for i in range(total_samples):\n",
    "        ax = fig.add_subplot(gs[i, 0])\n",
    "        ax.imshow(images[i])\n",
    "        ax.set_title(f\"{labels[total_samples - i - 1]} {os.path.basename(image_paths[indices[i]])}\")\n",
    "        ax.set_axis_off()\n",
    "    plt.tight_layout()"
   ]
  },
  {
   "cell_type": "markdown",
   "metadata": {},
   "source": [
    "# Flickr8k dataset"
   ]
  },
  {
   "cell_type": "code",
   "execution_count": 24,
   "metadata": {},
   "outputs": [
    {
     "data": {
      "application/vnd.jupyter.widget-view+json": {
       "model_id": "6320f0603bce41e4af413dc69d53460c",
       "version_major": 2,
       "version_minor": 0
      },
      "text/plain": [
       "interactive(children=(Textarea(value='A black dog', description='Describe image:', placeholder='Cool image'), …"
      ]
     },
     "metadata": {},
     "output_type": "display_data"
    },
    {
     "data": {
      "text/plain": [
       "<function __main__.show_most_sim_image(text, model, index, device, image_paths, top_n: int)>"
      ]
     },
     "execution_count": 24,
     "metadata": {},
     "output_type": "execute_result"
    }
   ],
   "source": [
    "interact_manual(show_most_sim_image, text=text_input, model=fixed(model), index=fixed(index), device=fixed(device), image_paths=fixed(images), top_n=top_n_input)"
   ]
  }
 ],
 "metadata": {
  "interpreter": {
   "hash": "f7d20b392a54de65b32b9be410c292c3ecfbcf3300941adf04e1d991966ace94"
  },
  "kernelspec": {
   "display_name": "Python 3.8.12 64-bit ('text2image': conda)",
   "language": "python",
   "name": "python3"
  },
  "language_info": {
   "codemirror_mode": {
    "name": "ipython",
    "version": 3
   },
   "file_extension": ".py",
   "mimetype": "text/x-python",
   "name": "python",
   "nbconvert_exporter": "python",
   "pygments_lexer": "ipython3",
   "version": "3.8.12"
  },
  "orig_nbformat": 4
 },
 "nbformat": 4,
 "nbformat_minor": 2
}
