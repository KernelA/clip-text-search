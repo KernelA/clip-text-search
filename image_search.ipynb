{
 "cells": [
  {
   "cell_type": "code",
   "execution_count": 11,
   "metadata": {},
   "outputs": [],
   "source": [
    "import os\n",
    "import pathlib\n",
    "import zipfile\n",
    "\n",
    "from urllib.request import urlretrieve\n",
    "\n",
    "import torch\n",
    "from ipywidgets import widgets, interact_manual, fixed\n",
    "import numpy as np\n",
    "from matplotlib import pyplot as plt"
   ]
  },
  {
   "cell_type": "code",
   "execution_count": 18,
   "metadata": {},
   "outputs": [
    {
     "name": "stdout",
     "output_type": "stream",
     "text": [
      "The autoreload extension is already loaded. To reload it, use:\n",
      "  %reload_ext autoreload\n"
     ]
    }
   ],
   "source": [
    "%load_ext autoreload\n",
    "%autoreload 2\n",
    "\n",
    "from utils import build_index, get_model, get_text_emb, load_image"
   ]
  },
  {
   "cell_type": "code",
   "execution_count": 3,
   "metadata": {},
   "outputs": [],
   "source": [
    "url = \"https://github.com/jbrownlee/Datasets/releases/download/Flickr8k/Flickr8k_Dataset.zip\"\n",
    "out_file = \"Flickr8k_Dataset.zip\"\n",
    "\n",
    "if not os.path.exists(out_file):\n",
    "    urlretrieve(url, out_file)"
   ]
  },
  {
   "cell_type": "code",
   "execution_count": 4,
   "metadata": {},
   "outputs": [],
   "source": [
    "image_dir_name = \"Flicker8k_Dataset\"\n",
    "\n",
    "if not os.path.isdir(image_dir_name):\n",
    "    with zipfile.ZipFile(out_file, \"r\") as zip_archive:\n",
    "        members = filter(lambda x: x.filename.startswith(image_dir_name), zip_archive.infolist())\n",
    "        zip_archive.extractall(members=members)"
   ]
  },
  {
   "cell_type": "code",
   "execution_count": 5,
   "metadata": {},
   "outputs": [],
   "source": [
    "root_image_dir = pathlib.Path(image_dir_name)"
   ]
  },
  {
   "cell_type": "code",
   "execution_count": 6,
   "metadata": {},
   "outputs": [],
   "source": [
    "images = list(map(str, root_image_dir.rglob(\"*.jpg\")))"
   ]
  },
  {
   "cell_type": "code",
   "execution_count": 8,
   "metadata": {},
   "outputs": [],
   "source": [
    "device = torch.device(\"cuda\" if torch.cuda.is_available() else \"cpu\")"
   ]
  },
  {
   "cell_type": "code",
   "execution_count": 9,
   "metadata": {},
   "outputs": [],
   "source": [
    "model, img_transformation = get_model(\"ViT-B/32\", device)"
   ]
  },
  {
   "cell_type": "code",
   "execution_count": 10,
   "metadata": {},
   "outputs": [
    {
     "name": "stderr",
     "output_type": "stream",
     "text": [
      "Encode images: 100%|██████████| 253/253 [05:28<00:00,  1.30s/it]\n"
     ]
    }
   ],
   "source": [
    "index = build_index(model, img_transformation, device, images)"
   ]
  },
  {
   "cell_type": "code",
   "execution_count": 15,
   "metadata": {},
   "outputs": [],
   "source": [
    "text_input = widgets.Text()\n",
    "top_n_input = widgets.IntSlider(min=1, max=20, value=10)"
   ]
  },
  {
   "cell_type": "code",
   "execution_count": 19,
   "metadata": {},
   "outputs": [],
   "source": [
    "def show_most_sim_image(text, model, index, device, image_paths, top_n: int):\n",
    "    text_emb = get_text_emb(model, text, device).astype(np.float32)\n",
    "    _, indices = index.search(text_emb, top_n)\n",
    "\n",
    "    images = []\n",
    "\n",
    "    for index in indices[0]:\n",
    "        image = load_image(image_paths[index])\n",
    "        images.append(image)\n",
    "    \n",
    "    fig = plt.figure(figsize=(20, 60))\n",
    "    axes = fig.subplots(len(images), 1)\n",
    "\n",
    "    for ax, img in zip(axes.flat, images):\n",
    "        ax.imshow(img)\n",
    "        ax.set_axis_off()"
   ]
  },
  {
   "cell_type": "code",
   "execution_count": 20,
   "metadata": {},
   "outputs": [
    {
     "data": {
      "application/vnd.jupyter.widget-view+json": {
       "model_id": "89e6e1b4c92b417fac7afd7a5ab2ec95",
       "version_major": 2,
       "version_minor": 0
      },
      "text/plain": [
       "interactive(children=(Text(value='', description='text'), IntSlider(value=10, description='top_n', max=20, min…"
      ]
     },
     "metadata": {},
     "output_type": "display_data"
    },
    {
     "data": {
      "text/plain": [
       "<function __main__.show_most_sim_image(text, model, index, device, image_paths, top_n: int)>"
      ]
     },
     "execution_count": 20,
     "metadata": {},
     "output_type": "execute_result"
    }
   ],
   "source": [
    "interact_manual(show_most_sim_image, text=text_input, model=fixed(model), index=fixed(index), device=fixed(device), image_paths=fixed(images), top_n=top_n_input)"
   ]
  },
  {
   "cell_type": "code",
   "execution_count": null,
   "metadata": {},
   "outputs": [],
   "source": []
  }
 ],
 "metadata": {
  "interpreter": {
   "hash": "f7d20b392a54de65b32b9be410c292c3ecfbcf3300941adf04e1d991966ace94"
  },
  "kernelspec": {
   "display_name": "Python 3.8.12 64-bit ('text2image': conda)",
   "language": "python",
   "name": "python3"
  },
  "language_info": {
   "codemirror_mode": {
    "name": "ipython",
    "version": 3
   },
   "file_extension": ".py",
   "mimetype": "text/x-python",
   "name": "python",
   "nbconvert_exporter": "python",
   "pygments_lexer": "ipython3",
   "version": "3.8.12"
  },
  "orig_nbformat": 4
 },
 "nbformat": 4,
 "nbformat_minor": 2
}
